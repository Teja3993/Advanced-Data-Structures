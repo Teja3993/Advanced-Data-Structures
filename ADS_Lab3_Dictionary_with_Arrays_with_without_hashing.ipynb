{
  "nbformat": 4,
  "nbformat_minor": 0,
  "metadata": {
    "colab": {
      "provenance": [],
      "authorship_tag": "ABX9TyMgWV7eygjOZfQUm9PAqWWM",
      "include_colab_link": true
    },
    "kernelspec": {
      "name": "python3",
      "display_name": "Python 3"
    },
    "language_info": {
      "name": "python"
    }
  },
  "cells": [
    {
      "cell_type": "markdown",
      "metadata": {
        "id": "view-in-github",
        "colab_type": "text"
      },
      "source": [
        "<a href=\"https://colab.research.google.com/github/Teja3993/Advanced-Data-Structures/blob/main/ADS_Lab3_Dictionary_with_Arrays_with_without_hashing.ipynb\" target=\"_parent\"><img src=\"https://colab.research.google.com/assets/colab-badge.svg\" alt=\"Open In Colab\"/></a>"
      ]
    },
    {
      "cell_type": "code",
      "execution_count": null,
      "metadata": {
        "colab": {
          "base_uri": "https://localhost:8080/"
        },
        "id": "MtBmrVKEVlrf",
        "outputId": "18883ef5-3fed-48ee-8c00-b15847dd6219"
      },
      "outputs": [
        {
          "output_type": "stream",
          "name": "stdout",
          "text": [
            "['1', '2', '3', '4'] : ['A', 'B', 'C', 'D']\n",
            "Key is present in the dictionary\n",
            "B\n",
            "['1', '2', '4'] : ['A', 'B', 'D']\n"
          ]
        }
      ],
      "source": [
        "class DictArray:      #Implementing  dictionaries using arrays without hashing\n",
        "  def __init__(self):\n",
        "    self.keys = []    # keys array\n",
        "    self.values =[]   #values array\n",
        "\n",
        "  def insert(self,key,value):        # Updating the value in a dictionary for a given key\n",
        "    if key in self.keys:             # Checking if given key is in the keys array\n",
        "      index = self.keys.index(key)   # getting index of the key to access value of same index in next step\n",
        "      self.values[index] = value     # updating value of given key\n",
        "    else:\n",
        "      self.keys.append(key)\n",
        "      self.values.append(value)\n",
        "\n",
        "  def search(self,key):                #searching the dictionary for a given key\n",
        "    if key in self.keys:               #iterating over each element in keys array to look for given key\n",
        "      return \"Key is present in the dictionary\"\n",
        "    else:\n",
        "      return \"Key is not in the dictionary\"\n",
        "\n",
        "  def lookup(self,key):               #Method to look up for a value corresponding to given key\n",
        "    if key in self.keys:              #checking if key is in the dictionary\n",
        "      index = self.keys.index(key)    #getting index of the key to access value from values array at same index\n",
        "      return self.values[index]\n",
        "    else:\n",
        "      return \"Key is not in the dictionary\"\n",
        "\n",
        "  def delete(self,key):               #Method to delete a key value pair from the dictionary\n",
        "    if key in self.keys:              #checking if key is in the dictionary using \"in\" operator\n",
        "      index = self.keys.index(key)    #getting index of the key to access key,value pair\n",
        "      self.keys.pop(index)            #Using pop() method to remove corresponding key from keys array\n",
        "      self.values.pop(index)          #Using pop() method to remove corresponding key from keys array\n",
        "      return\n",
        "\n",
        "  def __repr__(self):                 #Method to print the dictionary as a string\n",
        "    return f\"{self.keys} : {self.values}\"\n",
        "\n",
        "#Example\n",
        "dict_arr = DictArray()\n",
        "dict_arr.insert(\"1\",\"A\")\n",
        "dict_arr.insert(\"2\",\"B\")\n",
        "dict_arr.insert(\"3\",\"C\")\n",
        "dict_arr.insert(\"4\",\"D\")\n",
        "print(dict_arr)\n",
        "print(dict_arr.search(\"1\"))\n",
        "print(dict_arr.lookup(\"2\"))\n",
        "dict_arr.delete(\"3\")\n",
        "print(dict_arr)\n"
      ]
    },
    {
      "cell_type": "code",
      "source": [
        "#Implementing dictionaries using hash functions\n",
        "class MyHashDict:\n",
        "    def __init__(self,m):\n",
        "        self.m = m\n",
        "        self.table = [[] for i in range(m)]  #Initializing the hash table of size 'm'\n",
        "       # print(self.table)\n",
        "\n",
        "    def division_hash(self,key):            #Hash function using division method for integer type key values\n",
        "        return key%self.m\n",
        "\n",
        "\n",
        "\n",
        "    def insert(self,key,value):             #Inserting and updating key value pair in the hash table\n",
        "        index = self.division_hash(key)     #getting index of given key in hash table\n",
        "        group = self.table[index]          # group means the element in the hash table, here we access group at given key's hash value\n",
        "        for i,(k,v) in enumerate(group):   #iterating over each key value pair in a group\n",
        "            if k == key:\n",
        "                group[i]=(key,value)       #if given key is found then we update that key value pair\n",
        "                return\n",
        "\n",
        "        group.append((key,value))          #if key value pair is not found we append the key-value pair at that key's hash value index in the table\n",
        "\n",
        "    def search(self,key):                   #search method for searching for given key\n",
        "        index = self.division_hash(key)     #getting hash value of given key\n",
        "        group = self.table[index]          #accessing group at that hash value which has key value pairs\n",
        "        for i,(k,v) in enumerate(group):\n",
        "            if key == k:\n",
        "                return f\"Given {key} is present in dictionary\"\n",
        "            else:\n",
        "              return f\"Given {key} is not present in dictionary\"\n",
        "\n",
        "    def lookup(self,key):                   #lookup method for searching for given key and returning its value\n",
        "        index = self.division_hash(key)     #getting hash value of given key\n",
        "        group = self.table[index]          #accessing group at that hash value which has key value pairs\n",
        "        for i,(k,v) in enumerate(group):\n",
        "            if key == k:\n",
        "                return v\n",
        "\n",
        "    def delete(self,key):                                 #delete method to remove given key value pair from the hash table\n",
        "        group=self.table[self.division_hash(key)]         #getting that group corresponding to hash value of given key\n",
        "        for i,(k,v) in enumerate(group):                  #iterating over each key value pair in the group\n",
        "            if key==k:\n",
        "                del group[i]\n",
        "                return\n",
        "\n",
        "        raise KeyError(f\"Key {key} not found\")\n",
        "\n",
        "\n",
        "\n",
        "dicthas = MyHashDict(5)\n",
        "\n",
        "dicthas.insert(10, \"a\")\n",
        "dicthas.insert(15, \"b\")\n",
        "dicthas.insert(20, \"c\")\n",
        "print(dicthas.table)\n",
        "print(dicthas.lookup(15))\n",
        "dicthas.delete(15)\n",
        "print(dicthas.table)\n",
        "\n",
        "\n",
        "\n"
      ],
      "metadata": {
        "colab": {
          "base_uri": "https://localhost:8080/"
        },
        "id": "WYcfzDNabcb8",
        "outputId": "82d5a1e4-54e2-4570-ceaa-84eda589a976"
      },
      "execution_count": null,
      "outputs": [
        {
          "output_type": "stream",
          "name": "stdout",
          "text": [
            "[[(10, 'a'), (15, 'b'), (20, 'c')], [], [], [], []]\n",
            "b\n",
            "[[(10, 'a'), (20, 'c')], [], [], [], []]\n"
          ]
        }
      ]
    }
  ]
}